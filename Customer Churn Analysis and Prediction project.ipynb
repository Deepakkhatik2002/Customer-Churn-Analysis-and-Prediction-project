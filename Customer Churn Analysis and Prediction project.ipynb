{
 "cells": [
  {
   "cell_type": "code",
   "execution_count": 1,
   "id": "1ea86557",
   "metadata": {},
   "outputs": [],
   "source": [
    "import pandas as pd\n",
    "import numpy as np\n",
    "from sklearn.model_selection import train_test_split\n",
    "from sklearn.preprocessing import LabelEncoder, StandardScaler\n",
    "from sklearn.feature_selection import SelectKBest, f_classif\n",
    "from sklearn.ensemble import RandomForestClassifier\n",
    "from sklearn.linear_model import LogisticRegression\n",
    "from sklearn.tree import DecisionTreeClassifier\n",
    "from sklearn.ensemble import GradientBoostingClassifier\n",
    "from sklearn.impute import SimpleImputer"
   ]
  },
  {
   "cell_type": "code",
   "execution_count": null,
   "id": "91d7f09d",
   "metadata": {},
   "outputs": [],
   "source": [
    "# Task 1: Data Preparation"
   ]
  },
  {
   "cell_type": "code",
   "execution_count": null,
   "id": "ab00c199",
   "metadata": {},
   "outputs": [],
   "source": [
    "# Load the dataset\n",
    "df = pd.read_csv('TCC_Dataset  (1).csv')"
   ]
  },
  {
   "cell_type": "code",
   "execution_count": null,
   "id": "03628cc1",
   "metadata": {},
   "outputs": [],
   "source": [
    "# Handle missing values\n",
    "# Check for missing values\n",
    "print(\"Missing values:\\n\", df.isnull().sum())"
   ]
  },
  {
   "cell_type": "code",
   "execution_count": null,
   "id": "da98f4b2",
   "metadata": {},
   "outputs": [],
   "source": [
    "# Convert 'TotalCharges' to numeric, handle non-numeric values by coercing to NaN\n",
    "df['TotalCharges'] = pd.to_numeric(df['TotalCharges'], errors='coerce')"
   ]
  },
  {
   "cell_type": "code",
   "execution_count": null,
   "id": "1435020f",
   "metadata": {},
   "outputs": [],
   "source": [
    "# Impute missing values for all numerical columns\n",
    "numerical_cols = df.select_dtypes(include=['float64', 'int64']).columns\n",
    "imputer = SimpleImputer(strategy='median')\n",
    "df[numerical_cols] = imputer.fit_transform(df[numerical_cols])"
   ]
  },
  {
   "cell_type": "code",
   "execution_count": null,
   "id": "1fbc654e",
   "metadata": {},
   "outputs": [],
   "source": [
    "# Drop 'customerID' as it's not useful for prediction\n",
    "if 'customerID' in df.columns:\n",
    "    df.drop('customerID', axis=1, inplace=True)"
   ]
  },
  {
   "cell_type": "code",
   "execution_count": null,
   "id": "f5309ddf",
   "metadata": {},
   "outputs": [],
   "source": [
    "# Encode categorical variables\n",
    "# Identify categorical columns\n",
    "categorical_cols = df.select_dtypes(include=['object']).columns"
   ]
  },
  {
   "cell_type": "code",
   "execution_count": null,
   "id": "32fb193c",
   "metadata": {},
   "outputs": [],
   "source": [
    "# Apply LabelEncoder to categorical variables\n",
    "label_encoders = {}\n",
    "for col in categorical_cols:\n",
    "    le = LabelEncoder()\n",
    "    df[col] = le.fit_transform(df[col])\n",
    "    label_encoders[col] = le"
   ]
  },
  {
   "cell_type": "code",
   "execution_count": null,
   "id": "f565a6b7",
   "metadata": {},
   "outputs": [],
   "source": [
    "# Verify no NaN values remain\n",
    "print(\"\\nMissing values after imputation:\\n\", df.isnull().sum())"
   ]
  },
  {
   "cell_type": "code",
   "execution_count": null,
   "id": "5c7fde9a",
   "metadata": {},
   "outputs": [],
   "source": [
    "# Task 2: Split Data for Training and Testing"
   ]
  },
  {
   "cell_type": "code",
   "execution_count": null,
   "id": "a0406427",
   "metadata": {},
   "outputs": [],
   "source": [
    "# Define features (X) and target (y)\n",
    "X = df.drop('Churn', axis=1)\n",
    "y = df['Churn']"
   ]
  },
  {
   "cell_type": "code",
   "execution_count": null,
   "id": "34c33e4c",
   "metadata": {},
   "outputs": [],
   "source": [
    "# Split data into 80% training and 20% testing\n",
    "X_train, X_test, y_train, y_test = train_test_split(X, y, test_size=0.2, random_state=42, stratify=y)"
   ]
  },
  {
   "cell_type": "code",
   "execution_count": null,
   "id": "94b2526f",
   "metadata": {},
   "outputs": [],
   "source": [
    "# Scale numerical features\n",
    "scaler = StandardScaler()\n",
    "numerical_cols = ['tenure', 'MonthlyCharges', 'TotalCharges']\n",
    "X_train[numerical_cols] = scaler.fit_transform(X_train[numerical_cols])\n",
    "X_test[numerical_cols] = scaler.transform(X_test[numerical_cols])"
   ]
  },
  {
   "cell_type": "code",
   "execution_count": null,
   "id": "80dc0ca4",
   "metadata": {},
   "outputs": [],
   "source": [
    "# Double-check for NaN values in X_train and X_test\n",
    "print(\"\\nNaNirono in X_train:\", np.any(np.isnan(X_train)))\n",
    "print(\"NaN in X_test:\", np.any(np.isnan(X_test)))"
   ]
  },
  {
   "cell_type": "code",
   "execution_count": null,
   "id": "394476a7",
   "metadata": {},
   "outputs": [],
   "source": [
    "# Task 3: Feature Selection"
   ]
  },
  {
   "cell_type": "code",
   "execution_count": null,
   "id": "455ed158",
   "metadata": {},
   "outputs": [],
   "source": [
    "\n",
    "# Use SelectKBest to select top 10 features based on ANOVA F-value\n",
    "selector = SelectKBest(score_func=f_classif, k=10)\n",
    "X_train_selected = selector.fit_transform(X_train, y_train)\n",
    "X_test_selected = selector.transform(X_test)"
   ]
  },
  {
   "cell_type": "code",
   "execution_count": null,
   "id": "910ad25c",
   "metadata": {},
   "outputs": [],
   "source": [
    "# Get selected feature names\n",
    "selected_features = X_train.columns[selector.get_support()].tolist()\n",
    "print(\"Selected features:\", selected_features)"
   ]
  },
  {
   "cell_type": "code",
   "execution_count": null,
   "id": "0cc8faaa",
   "metadata": {},
   "outputs": [],
   "source": [
    "Task 4: Model Selection"
   ]
  },
  {
   "cell_type": "code",
   "execution_count": null,
   "id": "503b8f82",
   "metadata": {},
   "outputs": [],
   "source": [
    "# Evaluate multiple binary classification algorithms\n",
    "models = {\n",
    "    'Logistic Regression': LogisticRegression(random_state=42),\n",
    "    'Decision Tree': DecisionTreeClassifier(random_state=42),\n",
    "    'Random Forest': RandomForestClassifier(random_state=42),\n",
    "    'Gradient Boosting': GradientBoostingClassifier(random_state=42)\n",
    "}\n"
   ]
  },
  {
   "cell_type": "code",
   "execution_count": null,
   "id": "ab96419f",
   "metadata": {},
   "outputs": [],
   "source": [
    "# Print model options\n",
    "print(\"\\nModel Selection:\")\n",
    "for name, model in models.items():\n",
    "    print(f\"- {name}: Suitable for binary classification, handles {len(selected_features)} features well.\")"
   ]
  }
 ],
 "metadata": {
  "kernelspec": {
   "display_name": "Python 3 (ipykernel)",
   "language": "python",
   "name": "python3"
  },
  "language_info": {
   "codemirror_mode": {
    "name": "ipython",
    "version": 3
   },
   "file_extension": ".py",
   "mimetype": "text/x-python",
   "name": "python",
   "nbconvert_exporter": "python",
   "pygments_lexer": "ipython3",
   "version": "3.10.9"
  }
 },
 "nbformat": 4,
 "nbformat_minor": 5
}
